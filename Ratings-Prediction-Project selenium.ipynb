{
 "cells": [
  {
   "cell_type": "code",
   "execution_count": 2,
   "id": "fccd622f",
   "metadata": {
    "scrolled": true
   },
   "outputs": [
    {
     "name": "stdout",
     "output_type": "stream",
     "text": [
      "Collecting selenium\n",
      "  Downloading selenium-4.5.0-py3-none-any.whl (995 kB)\n",
      "Collecting trio-websocket~=0.9\n",
      "  Using cached trio_websocket-0.9.2-py3-none-any.whl (16 kB)\n",
      "Requirement already satisfied: certifi>=2021.10.8 in c:\\programdata\\anaconda3\\lib\\site-packages (from selenium) (2021.10.8)\n",
      "Collecting trio~=0.17\n",
      "  Downloading trio-0.22.0-py3-none-any.whl (384 kB)\n",
      "Requirement already satisfied: urllib3[socks]~=1.26 in c:\\programdata\\anaconda3\\lib\\site-packages (from selenium) (1.26.7)\n",
      "Collecting exceptiongroup>=1.0.0rc9\n",
      "  Downloading exceptiongroup-1.0.0rc9-py3-none-any.whl (12 kB)\n",
      "Requirement already satisfied: sortedcontainers in c:\\programdata\\anaconda3\\lib\\site-packages (from trio~=0.17->selenium) (2.4.0)\n",
      "Requirement already satisfied: idna in c:\\programdata\\anaconda3\\lib\\site-packages (from trio~=0.17->selenium) (3.2)\n",
      "Requirement already satisfied: attrs>=19.2.0 in c:\\programdata\\anaconda3\\lib\\site-packages (from trio~=0.17->selenium) (21.2.0)\n",
      "Collecting outcome\n",
      "  Using cached outcome-1.2.0-py2.py3-none-any.whl (9.7 kB)\n",
      "Requirement already satisfied: async-generator>=1.9 in c:\\programdata\\anaconda3\\lib\\site-packages (from trio~=0.17->selenium) (1.10)\n",
      "Requirement already satisfied: sniffio in c:\\programdata\\anaconda3\\lib\\site-packages (from trio~=0.17->selenium) (1.2.0)\n",
      "Requirement already satisfied: cffi>=1.14 in c:\\programdata\\anaconda3\\lib\\site-packages (from trio~=0.17->selenium) (1.14.6)\n",
      "Requirement already satisfied: pycparser in c:\\programdata\\anaconda3\\lib\\site-packages (from cffi>=1.14->trio~=0.17->selenium) (2.20)\n",
      "Collecting wsproto>=0.14\n",
      "  Downloading wsproto-1.2.0-py3-none-any.whl (24 kB)\n",
      "Requirement already satisfied: PySocks!=1.5.7,<2.0,>=1.5.6 in c:\\programdata\\anaconda3\\lib\\site-packages (from urllib3[socks]~=1.26->selenium) (1.7.1)\n",
      "Collecting h11<1,>=0.9.0\n",
      "  Downloading h11-0.14.0-py3-none-any.whl (58 kB)\n",
      "Installing collected packages: outcome, h11, exceptiongroup, wsproto, trio, trio-websocket, selenium\n",
      "Successfully installed exceptiongroup-1.0.0rc9 h11-0.14.0 outcome-1.2.0 selenium-4.5.0 trio-0.22.0 trio-websocket-0.9.2 wsproto-1.2.0\n"
     ]
    }
   ],
   "source": [
    "!pip install selenium"
   ]
  },
  {
   "cell_type": "code",
   "execution_count": 3,
   "id": "9c94bfd4",
   "metadata": {},
   "outputs": [],
   "source": [
    "import selenium\n",
    "from selenium import webdriver\n",
    "import pandas as pd\n",
    "from selenium.webdriver.common.by import By\n",
    "import time\n",
    "from bs4 import BeautifulSoup\n",
    "\n",
    "from selenium.common.exceptions import StaleElementReferenceException, NoSuchElementException\n",
    "\n",
    "import requests\n",
    "\n",
    "import re\n",
    "from selenium.webdriver.common.by import By\n",
    "\n",
    "import warnings\n",
    "warnings.filterwarnings('ignore')"
   ]
  },
  {
   "cell_type": "code",
   "execution_count": null,
   "id": "145a9fbc",
   "metadata": {},
   "outputs": [],
   "source": [
    "driver = webdriver.Chrome('chromedriver.exe')"
   ]
  },
  {
   "cell_type": "code",
   "execution_count": null,
   "id": "749370d5",
   "metadata": {},
   "outputs": [],
   "source": [
    "url='https://www.flipkart.com/'\n",
    "driver.get(url)"
   ]
  },
  {
   "cell_type": "code",
   "execution_count": null,
   "id": "8b595c18",
   "metadata": {},
   "outputs": [],
   "source": [
    "search=driver.find_element(By.CLASS_NAME,\"_3704LK\")\n",
    "search.send_keys(\"Smartphone\")\n",
    "\n",
    "search_button=driver.find_element(By.XPATH,'//button[@class=\"L0Z3Pu\"]')\n",
    "search_button.click()"
   ]
  },
  {
   "cell_type": "code",
   "execution_count": null,
   "id": "99b41fc5",
   "metadata": {},
   "outputs": [],
   "source": [
    "phone=driver.find_element(By.XPATH,'/html/body/div[1]/div/div[3]/div[1]/div[2]/div[2]/div/div/div/a/div[2]/div[1]/div[1]')\n",
    "phone.click("
   ]
  },
  {
   "cell_type": "code",
   "execution_count": null,
   "id": "cd04efed",
   "metadata": {},
   "outputs": [],
   "source": [
    "start=0\n",
    "end=283\n",
    "\n",
    "p1=[]\n",
    "p1.append('Phone')\n",
    "p1=p1*2547\n",
    "\n",
    "re1=[]\n",
    "for page in range(0,283):\n",
    "    re1_tag=driver.find_elements(By.XPATH,'//div[@class=\"t-ZTKy\"]')\n",
    "    for i in re1_tag:\n",
    "        re1.append(i.text)\n",
    "    next_button=driver.find_elements(By.XPATH,'/html/body/div/div/div[3]/div/div/div[2]/div[13]/div/div/nav/a[11]/span')\n",
    "\n",
    "ra1=[]\n",
    "for page in range(0,283):\n",
    "    ra1_tag=driver.find_elements(By.XPATH,'//div[@class=\"_3LWZlK _1BLPMq\"]')\n",
    "    for i in ra1_tag:\n",
    "        ra1.append(i.text)\n",
    "    next_button=driver.find_elements(By.XPATH,'/html/body/div/div/div[3]/div/div/div[2]/div[13]/div/div/nav/a[11]/span')"
   ]
  },
  {
   "cell_type": "code",
   "execution_count": null,
   "id": "e50b0789",
   "metadata": {},
   "outputs": [],
   "source": [
    "search=driver.find_element(By.CLASS_NAME,\"_3704LK\")\n",
    "search.send_keys(\"Laptop\")\n",
    "\n",
    "search_button=driver.find_element(By.XPATH,'//button[@class=\"L0Z3Pu\"]')\n",
    "search_button.click()"
   ]
  },
  {
   "cell_type": "code",
   "execution_count": null,
   "id": "8600642e",
   "metadata": {},
   "outputs": [],
   "source": [
    "laptop=driver.find_element(By.XPATH,'/html/body/div[1]/div/div[3]/div[1]/div[2]/div[4]/div/div/div/a/div[3]/div[1]/div[1]')\n",
    "laptop.click()"
   ]
  },
  {
   "cell_type": "code",
   "execution_count": null,
   "id": "870ec63e",
   "metadata": {},
   "outputs": [],
   "source": [
    "start=0\n",
    "end=62\n",
    "\n",
    "p2=[]\n",
    "p2.append('Laptop')\n",
    "p2=p2*620\n",
    "\n",
    "re2=[]\n",
    "for page in range(0,62):\n",
    "    re2_tag=driver.find_elements(By.XPATH,'//div[@class=\"t-ZTKy\"]')\n",
    "    for i in re2_tag:\n",
    "        re2.append(i.text)\n",
    "    next_button=driver.find_elements(By.XPATH,'/html/body/div[1]/div/div[3]/div/div/div[2]/div[13]/div/div/nav/a[11]/span')\n",
    "\n",
    "ra2=[]\n",
    "for page in range(0,62):\n",
    "    ra2_tag=driver.find_elements(By.XPATH,'//div[@class=\"_3LWZlK _1BLPMq\"]')\n",
    "    for i in ra2_tag:\n",
    "        ra2.append(i.text)\n",
    "    next_button=driver.find_elements(By.XPATH,'/html/body/div[1]/div/div[3]/div/div/div[2]/div[13]/div/div/nav/a[11]/span')"
   ]
  },
  {
   "cell_type": "code",
   "execution_count": null,
   "id": "36c18bf1",
   "metadata": {},
   "outputs": [],
   "source": [
    "search=driver.find_element(By.CLASS_NAME,\"_3704LK\")\n",
    "search.send_keys(\"Headphone\")\n",
    "\n",
    "search_button=driver.find_element(By.XPATH,'//button[@class=\"L0Z3Pu\"]')\n",
    "search_button.click()"
   ]
  },
  {
   "cell_type": "code",
   "execution_count": null,
   "id": "39dc9453",
   "metadata": {},
   "outputs": [],
   "source": [
    "headphone=driver.find_element(By.XPATH,'/html/body/div[1]/div/div[3]/div[1]/div[2]/div[2]/div/div[3]/div/a[2]')\n",
    "headphone.click()"
   ]
  },
  {
   "cell_type": "code",
   "execution_count": null,
   "id": "55faa4a7",
   "metadata": {},
   "outputs": [],
   "source": [
    "start=0\n",
    "end=2430\n",
    "\n",
    "p3=[]\n",
    "p3.append('Headphone')\n",
    "p3=p3*2430\n",
    "\n",
    "re3=[]\n",
    "for page in range(0,243):\n",
    "    re3_tag=driver.find_elements(By.XPATH,'//div[@class=\"t-ZTKy\"]')\n",
    "    for i in re3_tag:\n",
    "        re3.append(i.text)\n",
    "    next_button=driver.find_elements(By.XPATH,'/html/body/div[1]/div/div[3]/div/div/div[2]/div[13]/div/div/nav/a[11]/span')\n",
    "\n",
    "ra3=[]\n",
    "for page in range(0,243):\n",
    "    ra3_tag=driver.find_elements(By.XPATH,'//div[@class=\"_3LWZlK _1BLPMq\"]')\n",
    "    for i in ra3_tag:\n",
    "        ra3.append(i.text)\n",
    "    next_button=driver.find_elements(By.XPATH,'/html/body/div[1]/div/div[3]/div/div/div[2]/div[13]/div/div/nav/a[11]/span')"
   ]
  },
  {
   "cell_type": "code",
   "execution_count": null,
   "id": "adeed72a",
   "metadata": {},
   "outputs": [],
   "source": [
    "search=driver.find_element(By.CLASS_NAME,\"_3704LK\")\n",
    "search.send_keys(\"Smart watches\")\n",
    "\n",
    "search_button=driver.find_element(By.XPATH,'//button[@class=\"L0Z3Pu\"]')\n",
    "search_button.click()"
   ]
  },
  {
   "cell_type": "code",
   "execution_count": null,
   "id": "2b4963af",
   "metadata": {},
   "outputs": [],
   "source": [
    "watch=driver.find_element(By.XPATH,'/html/body/div[1]/div/div[3]/div[1]/div[2]/div[2]/div/div/div/a/div[2]/div[1]/div[1]')\n",
    "watch.click()"
   ]
  },
  {
   "cell_type": "code",
   "execution_count": null,
   "id": "2e4f957e",
   "metadata": {},
   "outputs": [],
   "source": [
    "start=0\n",
    "end=310\n",
    "\n",
    "p4=[]\n",
    "p4.append('Smart Watches')\n",
    "p4=p4*3100\n",
    "\n",
    "re4=[]\n",
    "for page in range(0,310):\n",
    "    re4_tag=driver.find_elements(By.XPATH,'//div[@class=\"t-ZTKy\"]')\n",
    "    for i in re4_tag:\n",
    "        re4.append(i.text)\n",
    "    next_button=driver.find_elements(By.XPATH,'/html/body/div[1]/div/div[3]/div/div/div[2]/div[13]/div/div/nav/a[11]/span')\n",
    "\n",
    "ra4=[]\n",
    "for page in range(0,310):\n",
    "    ra4_tag=driver.find_elements(By.XPATH,'//div[@class=\"_3LWZlK _1BLPMq\"]')\n",
    "    for i in ra4_tag:\n",
    "        ra4.append(i.text)\n",
    "    next_button=driver.find_elements(By.XPATH,'/html/body/div[1]/div/div[3]/div/div/div[2]/div[13]/div/div/nav/a[11]/span')"
   ]
  },
  {
   "cell_type": "code",
   "execution_count": null,
   "id": "6e6e1f9d",
   "metadata": {},
   "outputs": [],
   "source": [
    "search=driver.find_element(By.CLASS_NAME,\"_3704LK\")\n",
    "search.send_keys(\"Cameras\")\n",
    "\n",
    "search_button=driver.find_element(By.XPATH,'//button[@class=\"L0Z3Pu\"]')\n",
    "search_button.click()"
   ]
  },
  {
   "cell_type": "code",
   "execution_count": null,
   "id": "cfa85c24",
   "metadata": {},
   "outputs": [],
   "source": [
    "camera=driver.find_element(By.XPATH,'/html/body/div[1]/div/div[3]/div[1]/div[2]/div[2]/div/div[1]/div/a[2]')\n",
    "camera.click()"
   ]
  },
  {
   "cell_type": "code",
   "execution_count": null,
   "id": "cfdb2653",
   "metadata": {},
   "outputs": [],
   "source": [
    "start=0\n",
    "end=380\n",
    "\n",
    "p5=[]\n",
    "p5.append('Cameras')\n",
    "p5=p5*3800\n",
    "\n",
    "re5=[]\n",
    "for page in range(0,380):\n",
    "    re5_tag=driver.find_elements(By.XPATH,'//div[@class=\"t-ZTKy\"]')\n",
    "    for i in re5_tag:\n",
    "        re5.append(i.text)\n",
    "    next_button=driver.find_elements(By.XPATH,'/html/body/div[1]/div/div[3]/div/div/div[2]/div[13]/div/div/nav/a[11]/span')\n",
    "\n",
    "ra5=[]\n",
    "for page in range(0,380):\n",
    "    ra5_tag=driver.find_elements(By.XPATH,'//div[@class=\"_3LWZlK _1BLPMq\"]')\n",
    "    for i in ra5_tag:\n",
    "        ra5.append(i.text)\n",
    "    next_button=driver.find_elements(By.XPATH,'/html/body/div[1]/div/div[3]/div/div/div[2]/div[13]/div/div/nav/a[11]/span')"
   ]
  },
  {
   "cell_type": "code",
   "execution_count": null,
   "id": "e9a02b79",
   "metadata": {},
   "outputs": [],
   "source": [
    "search=driver.find_element(By.CLASS_NAME,\"_3704LK\")\n",
    "search.send_keys(\"Printer\")\n",
    "\n",
    "search_button=driver.find_element(By.XPATH,'//button[@class=\"L0Z3Pu\"]')\n",
    "search_button.click()"
   ]
  },
  {
   "cell_type": "code",
   "execution_count": null,
   "id": "3d2a970f",
   "metadata": {},
   "outputs": [],
   "source": [
    "printer=driver.find_element(By.XPATH,'/html/body/div/div/div[3]/div[1]/div[2]/div[3]/div/div[3]/div/a[2]')\n",
    "printer.click()"
   ]
  },
  {
   "cell_type": "code",
   "execution_count": null,
   "id": "4887cf6a",
   "metadata": {},
   "outputs": [],
   "source": [
    "start=0\n",
    "end=350\n",
    "\n",
    "p6=[]\n",
    "p6.append('Printer')\n",
    "p6=p6*3500\n",
    "\n",
    "re6=[]\n",
    "for page in range(0,350):\n",
    "    re6_tag=driver.find_elements(By.XPATH,'//div[@class=\"t-ZTKy\"]')\n",
    "    for i in re6_tag:\n",
    "        re6.append(i.text)\n",
    "    next_button=driver.find_elements(By.XPATH,'/html/body/div[1]/div/div[3]/div/div/div[2]/div[13]/div/div/nav/a[11]/span')\n",
    "\n",
    "ra6=[]\n",
    "for page in range(0,350):\n",
    "    ra6_tag=driver.find_elements(By.XPATH,'//div[@class=\"_3LWZlK _1BLPMq\"]')\n",
    "    for i in ra6_tag:\n",
    "        ra6.append(i.text)\n",
    "    next_button=driver.find_elements(By.XPATH,'/html/body/div[1]/div/div[3]/div/div/div[2]/div[13]/div/div/nav/a[11]/span')"
   ]
  },
  {
   "cell_type": "code",
   "execution_count": null,
   "id": "dc1d1157",
   "metadata": {},
   "outputs": [],
   "source": [
    "search=driver.find_element(By.CLASS_NAME,\"_3704LK\")\n",
    "search.send_keys(\"Monitor\")\n",
    "\n",
    "search_button=driver.find_element(By.XPATH,'//button[@class=\"L0Z3Pu\"]')\n",
    "search_button.click()"
   ]
  },
  {
   "cell_type": "code",
   "execution_count": null,
   "id": "3090cba3",
   "metadata": {},
   "outputs": [],
   "source": [
    "monitor=driver.find_element(By.XPATH,'/html/body/div/div/div[3]/div[1]/div[2]/div[14]/div/div/div/a/div[2]/div[1]/div[1]')\n",
    "monitor.click()"
   ]
  },
  {
   "cell_type": "code",
   "execution_count": null,
   "id": "b2943790",
   "metadata": {},
   "outputs": [],
   "source": [
    "start=0\n",
    "end=85\n",
    "\n",
    "p7=[]\n",
    "p7.append('Monitor')\n",
    "p7=p7*850\n",
    "\n",
    "re7=[]\n",
    "for page in range(0,85):\n",
    "    re7_tag=driver.find_elements(By.XPATH,'//div[@class=\"t-ZTKy\"]')\n",
    "    for i in re7_tag:\n",
    "        re7.append(i.text)\n",
    "    next_button=driver.find_elements(By.XPATH,'/html/body/div[1]/div/div[3]/div/div/div[2]/div[13]/div/div/nav/a[11]/span')\n",
    "\n",
    "ra7=[]\n",
    "for page in range(0,85):\n",
    "    ra7_tag=driver.find_elements(By.XPATH,'//div[@class=\"_3LWZlK _1BLPMq\"]')\n",
    "    for i in ra7_tag:\n",
    "        ra7.append(i.text)\n",
    "    next_button=driver.find_elements(By.XPATH,'/html/body/div[1]/div/div[3]/div/div/div[2]/div[13]/div/div/nav/a[11]/span')"
   ]
  },
  {
   "cell_type": "code",
   "execution_count": null,
   "id": "d184daf6",
   "metadata": {},
   "outputs": [],
   "source": [
    "search=driver.find_element(By.CLASS_NAME,\"_3704LK\")\n",
    "search.send_keys(\"Home Theater\")\n",
    "\n",
    "search_button=driver.find_element(By.XPATH,'//button[@class=\"L0Z3Pu\"]')\n",
    "search_button.click()"
   ]
  },
  {
   "cell_type": "code",
   "execution_count": null,
   "id": "57920f4b",
   "metadata": {},
   "outputs": [],
   "source": [
    "hometheater=driver.find_element(By.XPATH,'/html/body/div/div/div[3]/div[1]/div[2]/div[2]/div/div[2]/div/a[2]')\n",
    "hometheater.click()"
   ]
  },
  {
   "cell_type": "code",
   "execution_count": null,
   "id": "34295c4d",
   "metadata": {},
   "outputs": [],
   "source": [
    "start=0\n",
    "end=450\n",
    "\n",
    "p8=[]\n",
    "p8.append('Home Theater')\n",
    "p8=p8*4500\n",
    "\n",
    "re8=[]\n",
    "for page in range(0,450):\n",
    "    re8_tag=driver.find_elements(By.XPATH,'//div[@class=\"t-ZTKy\"]')\n",
    "    for i in re8_tag:\n",
    "        re8.append(i.text)\n",
    "    next_button=driver.find_elements(By.XPATH,'/html/body/div[1]/div/div[3]/div/div/div[2]/div[13]/div/div/nav/a[11]/span')\n",
    "\n",
    "ra8=[]\n",
    "for page in range(0,450):\n",
    "    ra8_tag=driver.find_elements(By.XPATH,'//div[@class=\"_3LWZlK _1BLPMq\"]')\n",
    "    for i in ra8_tag:\n",
    "        ra8.append(i.text)\n",
    "    next_button=driver.find_elements(By.XPATH,'/html/body/div[1]/div/div[3]/div/div/div[2]/div[13]/div/div/nav/a[11]/span')"
   ]
  },
  {
   "cell_type": "code",
   "execution_count": null,
   "id": "5a066cda",
   "metadata": {},
   "outputs": [],
   "source": [
    "search=driver.find_element(By.CLASS_NAME,\"_3704LK\")\n",
    "search.send_keys(\"Router\")\n",
    "\n",
    "search_button=driver.find_element(By.XPATH,'//button[@class=\"L0Z3Pu\"]')\n",
    "search_button.click()"
   ]
  },
  {
   "cell_type": "code",
   "execution_count": null,
   "id": "ebac5edb",
   "metadata": {},
   "outputs": [],
   "source": [
    "router=driver.find_element(By.XPATH,'/html/body/div/div/div[3]/div[1]/div[2]/div[2]/div/div[1]/div/a[2]')\n",
    "router.click()"
   ]
  },
  {
   "cell_type": "code",
   "execution_count": null,
   "id": "b47155f0",
   "metadata": {},
   "outputs": [],
   "source": [
    "start=0\n",
    "end=390\n",
    "\n",
    "p9=[]\n",
    "p9.append('Router')\n",
    "p9=p9*3900\n",
    "\n",
    "re9=[]\n",
    "for page in range(0,390):\n",
    "    re9_tag=driver.find_elements(By.XPATH,'//div[@class=\"t-ZTKy\"]')\n",
    "    for i in re9_tag:\n",
    "        re9.append(i.text)\n",
    "    next_button=driver.find_elements(By.XPATH,'/html/body/div[1]/div/div[3]/div/div/div[2]/div[13]/div/div/nav/a[11]/span')\n",
    "\n",
    "ra9=[]\n",
    "for page in range(0,390):\n",
    "    ra9_tag=driver.find_elements(By.XPATH,'//div[@class=\"_3LWZlK _1BLPMq\"]')\n",
    "    for i in ra9_tag:\n",
    "        ra9.append(i.text)\n",
    "    next_button=driver.find_elements(By.XPATH,'/html/body/div[1]/div/div[3]/div/div/div[2]/div[13]/div/div/nav/a[11]/span')"
   ]
  },
  {
   "cell_type": "code",
   "execution_count": null,
   "id": "fc196021",
   "metadata": {},
   "outputs": [],
   "source": [
    "product=p1+p2+p3+p4+p5+p6+p7+p8+p9\n",
    "review=re1+re2+re3+re4+re5+re6+re7+re8+re9\n",
    "rating=ra1+ra2+ra3+ra4+ra5+ra6+ra7+ra8+ra9"
   ]
  },
  {
   "cell_type": "code",
   "execution_count": null,
   "id": "6ad56b1a",
   "metadata": {},
   "outputs": [],
   "source": [
    "Ratings=pd.DataFrame({'Products':product,'Reviews':review,'Ratings':rating})\n",
    "Ratings"
   ]
  },
  {
   "cell_type": "code",
   "execution_count": null,
   "id": "d61ffac5",
   "metadata": {},
   "outputs": [],
   "source": [
    "Ratings.to_csv('C:\\\\Users\\\\Dell\\\\Desktop\\\\Files\\\\Ratings.csv',index=False)"
   ]
  },
  {
   "cell_type": "code",
   "execution_count": null,
   "id": "04423239",
   "metadata": {},
   "outputs": [],
   "source": []
  }
 ],
 "metadata": {
  "kernelspec": {
   "display_name": "Python 3 (ipykernel)",
   "language": "python",
   "name": "python3"
  },
  "language_info": {
   "codemirror_mode": {
    "name": "ipython",
    "version": 3
   },
   "file_extension": ".py",
   "mimetype": "text/x-python",
   "name": "python",
   "nbconvert_exporter": "python",
   "pygments_lexer": "ipython3",
   "version": "3.9.7"
  }
 },
 "nbformat": 4,
 "nbformat_minor": 5
}
